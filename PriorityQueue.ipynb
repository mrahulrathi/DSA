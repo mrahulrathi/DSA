{
  "nbformat": 4,
  "nbformat_minor": 0,
  "metadata": {
    "colab": {
      "provenance": [],
      "authorship_tag": "ABX9TyMUWqCueODipLeRx17RLwiD",
      "include_colab_link": true
    },
    "kernelspec": {
      "name": "python3",
      "display_name": "Python 3"
    },
    "language_info": {
      "name": "python"
    }
  },
  "cells": [
    {
      "cell_type": "markdown",
      "metadata": {
        "id": "view-in-github",
        "colab_type": "text"
      },
      "source": [
        "<a href=\"https://colab.research.google.com/github/mrahulrathi/git_dsa_repo/blob/feature1_link_list/PriorityQueue.ipynb\" target=\"_parent\"><img src=\"https://colab.research.google.com/assets/colab-badge.svg\" alt=\"Open In Colab\"/></a>"
      ]
    },
    {
      "cell_type": "code",
      "execution_count": 17,
      "metadata": {
        "id": "wBRg_BV4B50r"
      },
      "outputs": [],
      "source": [
        "class Node:\n",
        "\n",
        "  def __init__(self, data, priority):\n",
        "    self.info = data\n",
        "    self.priority = priority\n",
        "    self.link = None\n",
        "\n"
      ]
    },
    {
      "cell_type": "code",
      "source": [
        "class EmptyQueueError(Exception):\n",
        "  pass"
      ],
      "metadata": {
        "id": "WVKGx_wUCp3L"
      },
      "execution_count": 18,
      "outputs": []
    },
    {
      "cell_type": "code",
      "source": [
        "class PriorityQueue:\n",
        "\n",
        "  def __init__(self):\n",
        "    self.front = None\n",
        "\n",
        "  def enqueue(self, data, data_priority):\n",
        "    temp = Node(data, data_priority)\n",
        "\n",
        "    # if queue is empty or the element has priority more than first element\n",
        "    if self.is_empty() or data_priority < self.front.priority :\n",
        "      temp.link = self.front\n",
        "      self.front = temp\n",
        "\n",
        "    else:\n",
        "      p = self.front\n",
        "      while p.link != None and p.link.priority <= data_priority:\n",
        "        p = p.link\n",
        "\n",
        "      temp.link = p.link\n",
        "      p.link = temp\n",
        "    \n",
        "  def dequeue(self):\n",
        "\n",
        "    if self.is_empty():\n",
        "      raise EmptyQueueError\n",
        "\n",
        "    x = self.front.info\n",
        "    self.front = self.front.link\n",
        "    return x\n",
        "\n",
        "  def is_empty(self):\n",
        "    return self.front == None\n",
        "  \n",
        "  def display(self):\n",
        "\n",
        "    if self.is_empty():\n",
        "      print(\"Queue is empty\")\n",
        "      return\n",
        "\n",
        "    p = self.front\n",
        "    print(\"Queue is : \")\n",
        "    while p != None:\n",
        "      print(p.info, \"       \", p.priority)\n",
        "      p = p.link\n",
        "    print()\n",
        "\n",
        "  def size(self):\n",
        "    n = 0\n",
        "    p = self.front\n",
        "    while p != None:\n",
        "      p = p.link\n",
        "      n +=1\n",
        "    return n\n",
        "    \n"
      ],
      "metadata": {
        "id": "8FEus7J-CSPd"
      },
      "execution_count": 21,
      "outputs": []
    },
    {
      "cell_type": "code",
      "source": [
        "if __name__ == \"__main__\":\n",
        "  qu = PriorityQueue()\n",
        "\n",
        "  while True:\n",
        "\n",
        "    print(\"1.Display\")\n",
        "    print(\"2.Enqueue\")\n",
        "    print(\"3.Dequeue\")\n",
        "    print(\"4.Size\")\n",
        "    print(\"5.Quit\")\n",
        "\n",
        "    choice = int(input(\"Enter the choice : \"))\n",
        "    if choice == 1:\n",
        "      qu.display()\n",
        "\n",
        "    elif choice == 2:\n",
        "      x = int(input(\"Enter the element to be added : \"))\n",
        "      data_priority = int(input(\"Enter the priority of the element : \"))\n",
        "      qu.enqueue(x, data_priority)\n",
        "\n",
        "    elif choice == 3:\n",
        "      x = qu.dequeue()\n",
        "      print(\"Element is : \", x)\n",
        "    \n",
        "    elif choice == 4:\n",
        "      print(\"Size of queue is : \", qu.size())\n",
        "\n",
        "    elif choice == 5:\n",
        "      break\n",
        "\n",
        "    else: \n",
        "      print(\"Wrong choice\")\n",
        "\n",
        "    print()\n",
        "    \n",
        "\n"
      ],
      "metadata": {
        "colab": {
          "base_uri": "https://localhost:8080/",
          "height": 1000
        },
        "id": "AsvsFNSoGJNP",
        "outputId": "9a552200-17be-4f43-99db-2a5b7260cd82"
      },
      "execution_count": 22,
      "outputs": [
        {
          "name": "stdout",
          "output_type": "stream",
          "text": ["\n"
          ]
        }
      ]
    },
    {
      "cell_type": "code",
      "source": [],
      "metadata": {
        "id": "zKWxOwpBIXBl"
      },
      "execution_count": null,
      "outputs": []
    }
  ]
}
